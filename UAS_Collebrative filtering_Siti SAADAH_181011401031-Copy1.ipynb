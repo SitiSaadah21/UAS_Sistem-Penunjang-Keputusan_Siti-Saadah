{
 "cells": [
  {
   "cell_type": "code",
   "execution_count": 1,
   "id": "02169521-1074-4ee7-b369-4cf51e42e6df",
   "metadata": {},
   "outputs": [
    {
     "name": "stdout",
     "output_type": "stream",
     "text": [
      "Populating the interactive namespace from numpy and matplotlib\n"
     ]
    }
   ],
   "source": [
    "#Pearson Correlation Score \n",
    "import numpy as np\n",
    "import pandas as pd\n",
    "%pylab inline"
   ]
  },
  {
   "cell_type": "code",
   "execution_count": 23,
   "id": "5fece222-ac72-4980-b76a-fe4c1b3da196",
   "metadata": {},
   "outputs": [],
   "source": [
    "#\n",
    "dataset={'Arif': {'Lady in the Water': 2.5, 'Snakes on a Plane': 3.5,'Just My Luck': 3.0, 'Superman Returns': 3.5, 'You, Me and Dupree': 2.5,'The Night Listener': 3.0},\n",
    "        'Akil': {'Lady in the Water': 3.0, 'Snakes on a Plane': 3.5,'Just My Luck': 1.5, 'Superman Returns': 5.0, 'The Night Listener': 3.0,'You, Me and Dupree': 3.5},\n",
    "        'Ani': {'Lady in the Water': 2.5, 'Snakes on a Plane': 3.0,'Superman Returns': 3.5, 'The Night Listener': 4.0},\n",
    "        'Bayu': {'Snakes on a Plane': 3.5, 'Just My Luck': 3.0,'The Night Listener': 4.5, 'Superman Returns': 4.0,'You, Me and Dupree': 2.5},\n",
    "        'Caca': {'Lady in the Water': 3.0, 'Snakes on a Plane': 4.0,'Just My Luck': 2.0, 'Superman Returns': 3.0, 'The Night Listener': 3.0,'You, Me and Dupree': 2.0},\n",
    "        'Syfa': {'Lady in the Water': 3.0, 'Snakes on a Plane': 4.0,'The Night Listener': 3.0, 'Superman Returns': 5.0, 'You, Me and Dupree': 3.5},\n",
    "        'Yono': {'Snakes on a Plane':4.5,'You, Me and Dupree':1.0,'Superman Returns':4.0}}"
   ]
  },
  {
   "cell_type": "code",
   "execution_count": 24,
   "id": "78e92a38-3ad3-4972-bee3-1ac93a3c4acf",
   "metadata": {},
   "outputs": [
    {
     "data": {
      "text/html": [
       "<div>\n",
       "<style scoped>\n",
       "    .dataframe tbody tr th:only-of-type {\n",
       "        vertical-align: middle;\n",
       "    }\n",
       "\n",
       "    .dataframe tbody tr th {\n",
       "        vertical-align: top;\n",
       "    }\n",
       "\n",
       "    .dataframe thead th {\n",
       "        text-align: right;\n",
       "    }\n",
       "</style>\n",
       "<table border=\"1\" class=\"dataframe\">\n",
       "  <thead>\n",
       "    <tr style=\"text-align: right;\">\n",
       "      <th></th>\n",
       "      <th>Arif</th>\n",
       "      <th>Akil</th>\n",
       "      <th>Ani</th>\n",
       "      <th>Bayu</th>\n",
       "      <th>Caca</th>\n",
       "      <th>Syfa</th>\n",
       "      <th>Yono</th>\n",
       "    </tr>\n",
       "  </thead>\n",
       "  <tbody>\n",
       "    <tr>\n",
       "      <th>Lady in the Water</th>\n",
       "      <td>2.5</td>\n",
       "      <td>3.0</td>\n",
       "      <td>2.5</td>\n",
       "      <td>0.0</td>\n",
       "      <td>3.0</td>\n",
       "      <td>3.0</td>\n",
       "      <td>0.0</td>\n",
       "    </tr>\n",
       "    <tr>\n",
       "      <th>Snakes on a Plane</th>\n",
       "      <td>3.5</td>\n",
       "      <td>3.5</td>\n",
       "      <td>3.0</td>\n",
       "      <td>3.5</td>\n",
       "      <td>4.0</td>\n",
       "      <td>4.0</td>\n",
       "      <td>4.5</td>\n",
       "    </tr>\n",
       "    <tr>\n",
       "      <th>Just My Luck</th>\n",
       "      <td>3.0</td>\n",
       "      <td>1.5</td>\n",
       "      <td>0.0</td>\n",
       "      <td>3.0</td>\n",
       "      <td>2.0</td>\n",
       "      <td>0.0</td>\n",
       "      <td>0.0</td>\n",
       "    </tr>\n",
       "    <tr>\n",
       "      <th>Superman Returns</th>\n",
       "      <td>3.5</td>\n",
       "      <td>5.0</td>\n",
       "      <td>3.5</td>\n",
       "      <td>4.0</td>\n",
       "      <td>3.0</td>\n",
       "      <td>5.0</td>\n",
       "      <td>4.0</td>\n",
       "    </tr>\n",
       "    <tr>\n",
       "      <th>You, Me and Dupree</th>\n",
       "      <td>2.5</td>\n",
       "      <td>3.5</td>\n",
       "      <td>0.0</td>\n",
       "      <td>2.5</td>\n",
       "      <td>2.0</td>\n",
       "      <td>3.5</td>\n",
       "      <td>1.0</td>\n",
       "    </tr>\n",
       "    <tr>\n",
       "      <th>The Night Listener</th>\n",
       "      <td>3.0</td>\n",
       "      <td>3.0</td>\n",
       "      <td>4.0</td>\n",
       "      <td>4.5</td>\n",
       "      <td>3.0</td>\n",
       "      <td>3.0</td>\n",
       "      <td>0.0</td>\n",
       "    </tr>\n",
       "  </tbody>\n",
       "</table>\n",
       "</div>"
      ],
      "text/plain": [
       "                    Arif  Akil  Ani  Bayu  Caca  Syfa  Yono\n",
       "Lady in the Water    2.5   3.0  2.5   0.0   3.0   3.0   0.0\n",
       "Snakes on a Plane    3.5   3.5  3.0   3.5   4.0   4.0   4.5\n",
       "Just My Luck         3.0   1.5  0.0   3.0   2.0   0.0   0.0\n",
       "Superman Returns     3.5   5.0  3.5   4.0   3.0   5.0   4.0\n",
       "You, Me and Dupree   2.5   3.5  0.0   2.5   2.0   3.5   1.0\n",
       "The Night Listener   3.0   3.0  4.0   4.5   3.0   3.0   0.0"
      ]
     },
     "execution_count": 24,
     "metadata": {},
     "output_type": "execute_result"
    }
   ],
   "source": [
    "data=pd.DataFrame(dataset).fillna(0)\n",
    "data"
   ]
  },
  {
   "cell_type": "markdown",
   "id": "5ba3478f-c5b7-4f94-adda-d307474003fe",
   "metadata": {},
   "source": [
    "\n",
    "Ecludiean Distance"
   ]
  },
  {
   "cell_type": "code",
   "execution_count": 4,
   "id": "6cf4dc8e-6408-4806-ae94-c5b77a76e058",
   "metadata": {},
   "outputs": [],
   "source": [
    "#now finding the similarity between any two person using Ecludiean distance\n",
    "def get_similarity(data,p1,p2):\n",
    "    #for finding the similarity between tow person \n",
    "    #we need to find the simiilar item between them. Similar item mean ..rate score against same movie\n",
    "    \n",
    "    p1=[score for key,score in data[p1].items()]\n",
    "    p2=[score for key,score in data[p2].items()]\n",
    "    \n",
    "    sum_of_square=sum(pow(p1[index]-p2[index],2) for index in range(len(p1)) if p2[index]!=0 and p1[index]!=0)\n",
    "        \n",
    "    return 1/(1+sum_of_square)"
   ]
  },
  {
   "cell_type": "code",
   "execution_count": 50,
   "id": "e61d91f3-6871-4696-8c7f-09613716a563",
   "metadata": {},
   "outputs": [
    {
     "name": "stderr",
     "output_type": "stream",
     "text": [
      "<ipython-input-4-3007a57cae0a>:9: DeprecationWarning: Calling np.sum(generator) is deprecated, and in the future will give a different result. Use np.sum(np.fromiter(generator)) or the python sum builtin instead.\n",
      "  sum_of_square=sum(pow(p1[index]-p2[index],2) for index in range(len(p1)) if p2[index]!=0 and p1[index]!=0)\n"
     ]
    },
    {
     "data": {
      "text/plain": [
       "0.2222222222222222"
      ]
     },
     "execution_count": 50,
     "metadata": {},
     "output_type": "execute_result"
    }
   ],
   "source": [
    "get_similarity(data,\"Arif\",\"Yono\")"
   ]
  },
  {
   "cell_type": "markdown",
   "id": "ddd1d77d-bb4f-431e-96b1-21bee20fd9bb",
   "metadata": {},
   "source": [
    "Daftar Peringkat"
   ]
  },
  {
   "cell_type": "code",
   "execution_count": 52,
   "id": "f2f239fd-8da8-4434-8055-e1490987bf0a",
   "metadata": {},
   "outputs": [
    {
     "name": "stdout",
     "output_type": "stream",
     "text": [
      "                Arif             1.000000\n",
      "                 Ani             0.444444\n",
      "                Caca             0.333333\n",
      "                Bayu             0.285714\n",
      "                Yono             0.222222\n",
      "                Syfa             0.210526\n",
      "                Akil             0.148148\n"
     ]
    },
    {
     "name": "stderr",
     "output_type": "stream",
     "text": [
      "<ipython-input-4-3007a57cae0a>:9: DeprecationWarning: Calling np.sum(generator) is deprecated, and in the future will give a different result. Use np.sum(np.fromiter(generator)) or the python sum builtin instead.\n",
      "  sum_of_square=sum(pow(p1[index]-p2[index],2) for index in range(len(p1)) if p2[index]!=0 and p1[index]!=0)\n"
     ]
    }
   ],
   "source": [
    "#lets i want find the distance between Lisa Rose and every other person\n",
    "\n",
    "ranking={}\n",
    "names=list(data.columns)\n",
    "for person in names:\n",
    "    ranking[person]=get_similarity(data,\"Arif\",person)\n",
    "\n",
    "sortedlist=sorted(ranking,key=ranking.get,reverse=True)\n",
    "\n",
    "for key in sortedlist:\n",
    "    print(\"%20s %20f\"%(key,ranking[key]))"
   ]
  },
  {
   "cell_type": "markdown",
   "id": "e480fc7b-a5a1-43a4-b42b-433583e41fca",
   "metadata": {},
   "source": [
    "Korelasi person"
   ]
  },
  {
   "cell_type": "code",
   "execution_count": 42,
   "id": "103e386b-a2e3-4e16-8b6c-629bc3a4880b",
   "metadata": {},
   "outputs": [],
   "source": [
    "def sim_correlation(data,p1,p2):\n",
    "    #finding x and y\n",
    "    list_p1=list(data[p1])\n",
    "    list_p2=list(data[p2])\n",
    "    \n",
    "    #finding step1 and 2\n",
    "    sum1=sum(list_p1[index] for index in range(len(list_p1)) if list_p2[index]!=0)\n",
    "    sum2=sum(list_p2[index] for index in range(len(list_p2)) if list_p1[index]!=0)\n",
    "    \n",
    "    #doing step 3\n",
    "    pSum=sum([list_p1[index]*list_p2[index] for index in range(len(list_p1)) if list_p1[index]!=0 and list_p2[index]!=0])\n",
    "    \n",
    "    #doing Step 5 and 6\n",
    "    sum1sqr=sum([pow(list_p1[index],2) for index in range(len(list_p1)) if list_p1[index]!=0 and list_p2[index]!=0])\n",
    "    sum2sqr=sum([pow(list_p2[index],2) for index in range(len(list_p2)) if list_p1[index]!=0 and list_p2[index]!=0])\n",
    "    \n",
    "    #n-of nummerator\n",
    "    n=([index for index in range(len(list_p1)) if list_p1[index]!=0 and list_p2[index]!=0])\n",
    "    n=len(n)\n",
    "    \n",
    "    #nummerator\n",
    "    num=pSum-(sum1*sum2/n)\n",
    "    \n",
    "    #Denamuerator\n",
    "    den=math.sqrt(sum1sqr-pow(sum1,2)/n)*math.sqrt(sum2sqr-pow(sum2,2)/n)\n",
    "    \n",
    "    r=num/den\n",
    "    return r"
   ]
  },
  {
   "cell_type": "code",
   "execution_count": 43,
   "id": "51f1a9e1-93c9-4934-8a1e-1d48f5c365ae",
   "metadata": {},
   "outputs": [
    {
     "name": "stderr",
     "output_type": "stream",
     "text": [
      "<ipython-input-42-83dcf4c98b3b>:7: DeprecationWarning: Calling np.sum(generator) is deprecated, and in the future will give a different result. Use np.sum(np.fromiter(generator)) or the python sum builtin instead.\n",
      "  sum1=sum(list_p1[index] for index in range(len(list_p1)) if list_p2[index]!=0)\n",
      "<ipython-input-42-83dcf4c98b3b>:8: DeprecationWarning: Calling np.sum(generator) is deprecated, and in the future will give a different result. Use np.sum(np.fromiter(generator)) or the python sum builtin instead.\n",
      "  sum2=sum(list_p2[index] for index in range(len(list_p2)) if list_p1[index]!=0)\n"
     ]
    },
    {
     "data": {
      "text/plain": [
       "0.39605901719066977"
      ]
     },
     "execution_count": 43,
     "metadata": {},
     "output_type": "execute_result"
    }
   ],
   "source": [
    "sim_correlation(data,\"Arif\",\"Akil\")"
   ]
  },
  {
   "cell_type": "markdown",
   "id": "40034445-a3e6-40ab-8510-e88adb1733b8",
   "metadata": {},
   "source": [
    "Skor untuk korelasi person"
   ]
  },
  {
   "cell_type": "code",
   "execution_count": 44,
   "id": "002f8026-5075-40a0-b773-eed54df3f3d6",
   "metadata": {},
   "outputs": [
    {
     "name": "stdout",
     "output_type": "stream",
     "text": [
      "                Arif             1.000000\n",
      "                Yono             0.991241\n",
      "                Syfa             0.747018\n",
      "                Caca             0.594089\n",
      "                Bayu             0.566947\n",
      "                 Ani             0.404520\n",
      "                Akil             0.396059\n"
     ]
    },
    {
     "name": "stderr",
     "output_type": "stream",
     "text": [
      "<ipython-input-42-83dcf4c98b3b>:7: DeprecationWarning: Calling np.sum(generator) is deprecated, and in the future will give a different result. Use np.sum(np.fromiter(generator)) or the python sum builtin instead.\n",
      "  sum1=sum(list_p1[index] for index in range(len(list_p1)) if list_p2[index]!=0)\n",
      "<ipython-input-42-83dcf4c98b3b>:8: DeprecationWarning: Calling np.sum(generator) is deprecated, and in the future will give a different result. Use np.sum(np.fromiter(generator)) or the python sum builtin instead.\n",
      "  sum2=sum(list_p2[index] for index in range(len(list_p2)) if list_p1[index]!=0)\n"
     ]
    }
   ],
   "source": [
    "#lets i want find the distance between Lisa Rose and every other person\n",
    "\n",
    "ranking={}\n",
    "names=list(data.columns)\n",
    "for person in names:\n",
    "    ranking[person]=sim_correlation(data,\"Arif\",person)\n",
    "\n",
    "sortedlist=sorted(ranking,key=ranking.get,reverse=True)\n",
    "\n",
    "for key in sortedlist:\n",
    "    print(\"%20s %20f\"%(key,ranking[key]))"
   ]
  },
  {
   "cell_type": "code",
   "execution_count": 45,
   "id": "3f40039b-1b74-428a-9f7a-9c9feba14dcc",
   "metadata": {},
   "outputs": [
    {
     "name": "stdout",
     "output_type": "stream",
     "text": [
      "                Arif             1.000000\n",
      "                 Ani             0.444444\n",
      "                Caca             0.333333\n",
      "                Bayu             0.285714\n",
      "                Yono             0.222222\n",
      "                Syfa             0.210526\n",
      "                Akil             0.148148\n"
     ]
    },
    {
     "name": "stderr",
     "output_type": "stream",
     "text": [
      "<ipython-input-4-3007a57cae0a>:9: DeprecationWarning: Calling np.sum(generator) is deprecated, and in the future will give a different result. Use np.sum(np.fromiter(generator)) or the python sum builtin instead.\n",
      "  sum_of_square=sum(pow(p1[index]-p2[index],2) for index in range(len(p1)) if p2[index]!=0 and p1[index]!=0)\n"
     ]
    }
   ],
   "source": [
    "#lets i want find the distance between Lisa Rose and every other person\n",
    "\n",
    "ranking={}\n",
    "names=list(data.columns)\n",
    "for person in names:\n",
    "    ranking[person]=get_similarity(data,\"Arif\",person)\n",
    "\n",
    "sortedlist=sorted(ranking,key=ranking.get,reverse=True)\n",
    "\n",
    "for key in sortedlist:\n",
    "    print(\"%20s %20f\"%(key,ranking[key]))"
   ]
  },
  {
   "cell_type": "markdown",
   "id": "112164a2-ff40-4015-a3d3-eb3e6345e9cb",
   "metadata": {},
   "source": [
    "Digunakan Berdasarkan Collebrative filtering"
   ]
  },
  {
   "cell_type": "code",
   "execution_count": 46,
   "id": "eaa949b4-d2f2-4cfe-b80c-105f635b6846",
   "metadata": {},
   "outputs": [],
   "source": [
    "def get_getrecommendationitem(data,person):\n",
    "    totals={}\n",
    "    simSum={}\n",
    "    names=list(data.columns)\n",
    "    movies=list(data.transpose().columns)\n",
    "\n",
    "    for other in names:\n",
    "        if other==person:\n",
    "            continue\n",
    "        sim=sim_correlation(data,person,other)\n",
    "        \n",
    "        if sim<=0:\n",
    "            continue\n",
    "        \n",
    "        for item in movies:\n",
    "            if data[person][item]==0 and data[other][item]!=0:\n",
    "                totals.setdefault(item,0)\n",
    "                totals[item]+=data[other][item]*sim\n",
    "                simSum.setdefault(item,0)\n",
    "                simSum[item]+=sim\n",
    "    ranking=[(total/simSum[item],item) for item,total in totals.items()]\n",
    "              \n",
    "    ranking.sort()\n",
    "    ranking.reverse()\n",
    "    return ranking"
   ]
  },
  {
   "cell_type": "code",
   "execution_count": 51,
   "id": "0d09ce0b-a870-4cfa-8820-635ac46c8844",
   "metadata": {},
   "outputs": [
    {
     "name": "stderr",
     "output_type": "stream",
     "text": [
      "<ipython-input-42-83dcf4c98b3b>:7: DeprecationWarning: Calling np.sum(generator) is deprecated, and in the future will give a different result. Use np.sum(np.fromiter(generator)) or the python sum builtin instead.\n",
      "  sum1=sum(list_p1[index] for index in range(len(list_p1)) if list_p2[index]!=0)\n",
      "<ipython-input-42-83dcf4c98b3b>:8: DeprecationWarning: Calling np.sum(generator) is deprecated, and in the future will give a different result. Use np.sum(np.fromiter(generator)) or the python sum builtin instead.\n",
      "  sum2=sum(list_p2[index] for index in range(len(list_p2)) if list_p1[index]!=0)\n"
     ]
    },
    {
     "data": {
      "text/plain": [
       "[(3.3477895267131017, 'The Night Listener'),\n",
       " (2.8325499182641622, 'Lady in the Water'),\n",
       " (2.5309807037655645, 'Just My Luck')]"
      ]
     },
     "execution_count": 51,
     "metadata": {},
     "output_type": "execute_result"
    }
   ],
   "source": [
    "get_getrecommendationitem(data,\"Yono\")"
   ]
  },
  {
   "cell_type": "code",
   "execution_count": null,
   "id": "7c09bf79-e19f-4ad5-a9c8-2e8cce1d7f10",
   "metadata": {},
   "outputs": [],
   "source": []
  }
 ],
 "metadata": {
  "kernelspec": {
   "display_name": "Python 3",
   "language": "python",
   "name": "python3"
  },
  "language_info": {
   "codemirror_mode": {
    "name": "ipython",
    "version": 3
   },
   "file_extension": ".py",
   "mimetype": "text/x-python",
   "name": "python",
   "nbconvert_exporter": "python",
   "pygments_lexer": "ipython3",
   "version": "3.8.8"
  }
 },
 "nbformat": 4,
 "nbformat_minor": 5
}
